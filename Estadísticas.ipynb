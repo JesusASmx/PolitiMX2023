{
 "cells": [
  {
   "cell_type": "code",
   "execution_count": 18,
   "id": "dc9087a0-4a65-4cd9-bb85-7881446e3211",
   "metadata": {},
   "outputs": [
    {
     "data": {
      "text/html": [
       "<div>\n",
       "<style scoped>\n",
       "    .dataframe tbody tr th:only-of-type {\n",
       "        vertical-align: middle;\n",
       "    }\n",
       "\n",
       "    .dataframe tbody tr th {\n",
       "        vertical-align: top;\n",
       "    }\n",
       "\n",
       "    .dataframe thead th {\n",
       "        text-align: right;\n",
       "    }\n",
       "</style>\n",
       "<table border=\"1\" class=\"dataframe\">\n",
       "  <thead>\n",
       "    <tr style=\"text-align: right;\">\n",
       "      <th></th>\n",
       "      <th>ID</th>\n",
       "      <th>Comentario</th>\n",
       "      <th>Gobierno</th>\n",
       "      <th>Oposición</th>\n",
       "      <th>Label</th>\n",
       "    </tr>\n",
       "  </thead>\n",
       "  <tbody>\n",
       "    <tr>\n",
       "      <th>0</th>\n",
       "      <td>6037</td>\n",
       "      <td>Qué prometa lo que quiera. En su vida volverá ...</td>\n",
       "      <td>0.0</td>\n",
       "      <td>0.0</td>\n",
       "      <td>[0.0, 0.0]</td>\n",
       "    </tr>\n",
       "    <tr>\n",
       "      <th>1</th>\n",
       "      <td>7594</td>\n",
       "      <td>Pura Mafia.   De poder tranza</td>\n",
       "      <td>0.0</td>\n",
       "      <td>-1.0</td>\n",
       "      <td>[0.0, -1.0]</td>\n",
       "    </tr>\n",
       "    <tr>\n",
       "      <th>2</th>\n",
       "      <td>3257</td>\n",
       "      <td>Siiiiii, que la pongan de candidata para asegu...</td>\n",
       "      <td>0.0</td>\n",
       "      <td>0.0</td>\n",
       "      <td>[0.0, 0.0]</td>\n",
       "    </tr>\n",
       "    <tr>\n",
       "      <th>3</th>\n",
       "      <td>4586</td>\n",
       "      <td>Parece de fábula: Una modesta maestra, soltera...</td>\n",
       "      <td>0.0</td>\n",
       "      <td>0.0</td>\n",
       "      <td>[0.0, 0.0]</td>\n",
       "    </tr>\n",
       "    <tr>\n",
       "      <th>4</th>\n",
       "      <td>138</td>\n",
       "      <td>GRACIAS SR. PRESIDENTE, DIOS NOS LO BENDIGA, C...</td>\n",
       "      <td>1.0</td>\n",
       "      <td>0.0</td>\n",
       "      <td>[1.0, 0.0]</td>\n",
       "    </tr>\n",
       "  </tbody>\n",
       "</table>\n",
       "</div>"
      ],
      "text/plain": [
       "     ID                                         Comentario  Gobierno  \\\n",
       "0  6037  Qué prometa lo que quiera. En su vida volverá ...       0.0   \n",
       "1  7594                      Pura Mafia.   De poder tranza       0.0   \n",
       "2  3257  Siiiiii, que la pongan de candidata para asegu...       0.0   \n",
       "3  4586  Parece de fábula: Una modesta maestra, soltera...       0.0   \n",
       "4   138  GRACIAS SR. PRESIDENTE, DIOS NOS LO BENDIGA, C...       1.0   \n",
       "\n",
       "   Oposición        Label  \n",
       "0        0.0   [0.0, 0.0]  \n",
       "1       -1.0  [0.0, -1.0]  \n",
       "2        0.0   [0.0, 0.0]  \n",
       "3        0.0   [0.0, 0.0]  \n",
       "4        0.0   [1.0, 0.0]  "
      ]
     },
     "execution_count": 18,
     "metadata": {},
     "output_type": "execute_result"
    }
   ],
   "source": [
    "import pandas as pd\n",
    "\n",
    "corpus = pd.read_csv(\"PolitiMX2023.csv\").drop([\"¿En cuál vas?\", \"Posible Contradicción\"],axis=1)\n",
    "\n",
    "def list_labels(row):\n",
    "    return [row['Gobierno'], row['Oposición']]\n",
    "\n",
    "corpus['Label'] = corpus.apply(list_labels, axis=1)\n",
    "\n",
    "corpus.head()"
   ]
  },
  {
   "cell_type": "code",
   "execution_count": 19,
   "id": "8ff693fe-c94a-434c-8a4e-38efdfb1acbe",
   "metadata": {},
   "outputs": [
    {
     "name": "stdout",
     "output_type": "stream",
     "text": [
      "Gobierno\n",
      " 0.0    6335\n",
      " 1.0    1551\n",
      "-1.0     362\n",
      " 2.0       1\n",
      "Name: count, dtype: int64\n",
      "Oposición\n",
      " 0.0    6770\n",
      "-1.0     878\n",
      " 1.0     602\n",
      "Name: count, dtype: int64\n",
      "Label\n",
      "[0.0, 0.0]      5039\n",
      "[1.0, 0.0]      1455\n",
      "[0.0, -1.0]      743\n",
      "[0.0, 1.0]       552\n",
      "[-1.0, 0.0]      274\n",
      "[1.0, -1.0]       89\n",
      "[-1.0, -1.0]      46\n",
      "[-1.0, 1.0]       42\n",
      "[1.0, 1.0]         7\n",
      "[nan, 0.0]         1\n",
      "[2.0, 0.0]         1\n",
      "[0.0, nan]         1\n",
      "[nan, 1.0]         1\n",
      "Name: count, dtype: int64\n"
     ]
    }
   ],
   "source": [
    "print(corpus.Gobierno.value_counts())\n",
    "print(corpus.Oposición.value_counts())\n",
    "print(corpus.Label.value_counts())"
   ]
  },
  {
   "cell_type": "code",
   "execution_count": null,
   "id": "2ba54da7-9677-4c7a-bf1c-2782a05bf5f5",
   "metadata": {},
   "outputs": [],
   "source": []
  }
 ],
 "metadata": {
  "kernelspec": {
   "display_name": "Python 3 (ipykernel)",
   "language": "python",
   "name": "python3"
  },
  "language_info": {
   "codemirror_mode": {
    "name": "ipython",
    "version": 3
   },
   "file_extension": ".py",
   "mimetype": "text/x-python",
   "name": "python",
   "nbconvert_exporter": "python",
   "pygments_lexer": "ipython3",
   "version": "3.11.5"
  }
 },
 "nbformat": 4,
 "nbformat_minor": 5
}
